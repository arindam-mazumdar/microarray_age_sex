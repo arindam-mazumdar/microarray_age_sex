{
 "cells": [
  {
   "cell_type": "markdown",
   "metadata": {},
   "source": [
    "# Microarray data analysis\n",
    "\n",
    "Microarray data in genetics refers to a type of high-throughput technology used to measure the expression levels of thousands of genes simultaneously. Microarrays are composed of small glass slides or silicon chips on which thousands of microscopic spots, known as probes, are deposited in an orderly grid pattern. These probes are short DNA sequences or fragments that are complementary to specific genes or regions of the genome. Each spot represents a particular gene or DNA sequence. The results are typically strored in a .CEL file. To process a .CEL file we go thourgh the following steps\n",
    "\n",
    "- Get .CEL from https://www.ncbi.nlm.nih.gov/\n",
    "- Every .CEL file corresponds to an experiment which is part of SERIES and SERIES is a based on a platform.\n",
    "- We use GPL570 platform to restrict our-selves to **Affymetrix Human Genome U133 Plus 2.0 Array**"
   ]
  },
  {
   "cell_type": "markdown",
   "metadata": {},
   "source": [
    "### Collecting .CEL files\n",
    "\n",
    "- Download the list of all accession of GPL570 at https://www.ncbi.nlm.nih.gov/geo/query/acc.cgi?acc=GPL570&targ=self&view=brief&form=text"
   ]
  },
  {
   "cell_type": "code",
   "execution_count": null,
   "metadata": {},
   "outputs": [],
   "source": [
    "# Read all sample_ids into a list:\n",
    "\n",
    "with open('GPL570.txt','r') as f:\n",
    "    lines = f.readlines()\n",
    "    sample_id = []\n",
    "    for line in lines:\n",
    "        if line[:22] == '!Platform_sample_id = ':\n",
    "            sample_id.append('GSM'+rx.findall(r'\\d+',line)[0])"
   ]
  },
  {
   "cell_type": "code",
   "execution_count": null,
   "metadata": {},
   "outputs": [],
   "source": [
    "import requests as re\n",
    "from bs4 import BeautifulSoup\n",
    "import pandas as pd\n",
    "import regex as rx\n",
    "\n",
    "# Download all .CEL.gz files\n",
    "\n",
    "for idx in sample_id:\n",
    "    url = 'https://www.ncbi.nlm.nih.gov/geo/query/acc.cgi?acc='+idx\n",
    "    page = re.get(url)\n",
    "    with open('./html_files/'+idx+'.html', 'wb') as file:\n",
    "        file.write(page.content)"
   ]
  },
  {
   "cell_type": "markdown",
   "metadata": {},
   "source": [
    "### fRMA Normaization of .CEL files\n",
    "\n",
    "Frozen RMA (fRMA) is a microarray preprocessing algorithm that allows one to analyze\n",
    "microarrays individually or in small batches and then combine the data for analysis. This\n",
    "is accomplished by utilizing information from the large publicly available microarray\n",
    "databases. Specifically, estimates of probe-specific effects and variances are precomputed\n",
    "and frozen. Then, with new data sets, these frozen parameters are used in concert with\n",
    "information from the new array(s) to preprocess the data.\n",
    "Follow documentation: https://www.bioconductor.org/packages/release/bioc/html/frma.html\n",
    "\n",
    "The following **R-script** does the fRMA transformation and saves output of z-scores in .csv format. \n",
    "\n",
    "```R\n",
    "library(frma)\n",
    "library(affy)\n",
    "\n",
    "\n",
    "input_path = paste0('.../cel_files/',i,'.CEL.gz')\n",
    "Data <- ReadAffy(filenames = input_path)\n",
    "\n",
    "# for custom CDF file use:\n",
    "# Data <- ReadAffy(filenames = input_path, cdfname = '...path_to/GPL17996_HGU133Plus2_Hs_ENTREZG.cdf')\n",
    "\n",
    "\n",
    "Object <- frma(Data)\n",
    "   bc<- barcode(Object, output = 'z-score')\n",
    "   output_path = paste0('..../expr_files/',i,'.csv')\n",
    "   write.csv(bc, file = output_path)}\n",
    "```\n",
    "\n",
    "For processing all the .cel files in a parallelized for loop look at **get_z_score_parallel.r**"
   ]
  },
  {
   "cell_type": "code",
   "execution_count": null,
   "metadata": {},
   "outputs": [],
   "source": []
  }
 ],
 "metadata": {
  "kernelspec": {
   "display_name": "Python 3",
   "language": "python",
   "name": "python3"
  },
  "language_info": {
   "codemirror_mode": {
    "name": "ipython",
    "version": 3
   },
   "file_extension": ".py",
   "mimetype": "text/x-python",
   "name": "python",
   "nbconvert_exporter": "python",
   "pygments_lexer": "ipython3",
   "version": "3.8.3"
  }
 },
 "nbformat": 4,
 "nbformat_minor": 4
}
